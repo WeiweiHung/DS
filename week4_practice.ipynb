{
 "cells": [
  {
   "cell_type": "markdown",
   "metadata": {},
   "source": [
    "## 堆疊(Stack)\n",
    "### 特徵\n",
    "1. 後進先出LIFO\n",
    "2. 新增元素push\n",
    "3. 丟出元素pop\n",
    "4. 一維陣列\n",
    "\n",
    "ex. 可應用於網站瀏覽記錄"
   ]
  },
  {
   "cell_type": "code",
   "execution_count": 6,
   "metadata": {},
   "outputs": [
    {
     "name": "stdout",
     "output_type": "stream",
     "text": [
      "[1]\n",
      "[1, 2]\n",
      "[1, 2, 3]\n",
      "done\n"
     ]
    }
   ],
   "source": [
    "# 先建一個list\n",
    "stack = []\n",
    "\n",
    "#設定一個布林值以打斷迴圈\n",
    "islast = False\n",
    "\n",
    "#用迴圈push資料進stack\n",
    "while islast == False:\n",
    "    obj = int(input(\"請輸入數字，直到不想輸入時請輸入0: \"))\n",
    "\n",
    "    if obj == 0:\n",
    "        islast = True\n",
    "        print(\"done\")\n",
    "    else:\n",
    "        stack.append(obj)\n",
    "        print(stack)\n",
    "\n",
    "\n"
   ]
  },
  {
   "cell_type": "code",
   "execution_count": 7,
   "metadata": {},
   "outputs": [
    {
     "name": "stdout",
     "output_type": "stream",
     "text": [
      "3\n",
      "2\n",
      "1\n",
      "[]\n"
     ]
    }
   ],
   "source": [
    "#用迴圈把資料pop出來\n",
    "\n",
    "length = len(stack)  # 存儲列表的長度\n",
    "for i in range(length):\n",
    "    print(stack.pop())  # 直接從末尾 pop 出元素\n",
    "\n",
    "print(stack)  # 空列表"
   ]
  }
 ],
 "metadata": {
  "kernelspec": {
   "display_name": "Python 3",
   "language": "python",
   "name": "python3"
  },
  "language_info": {
   "codemirror_mode": {
    "name": "ipython",
    "version": 3
   },
   "file_extension": ".py",
   "mimetype": "text/x-python",
   "name": "python",
   "nbconvert_exporter": "python",
   "pygments_lexer": "ipython3",
   "version": "3.10.7"
  }
 },
 "nbformat": 4,
 "nbformat_minor": 2
}
